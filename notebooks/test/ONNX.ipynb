{
 "cells": [
  {
   "cell_type": "code",
   "execution_count": 5,
   "metadata": {},
   "outputs": [
    {
     "ename": "KeyError",
     "evalue": "KeyError: key :Gather not found",
     "output_type": "error",
     "traceback": [
      "KeyError: key :Gather not found",
      "",
      "Stacktrace:",
      " [1] getindex(::Dict{Symbol,Any}, ::Symbol) at ./dict.jl:478",
      " [2] _graph(::ONNX.Types.Graph) at /home/user/.julia/packages/ONNX/iz0dL/src/graph/graph.jl:0",
      " [3] graph(::ONNX.Types.Graph) at /home/user/.julia/packages/ONNX/iz0dL/src/graph/graph.jl:92",
      " [4] code(::ONNX.Types.Graph) at /home/user/.julia/packages/ONNX/iz0dL/src/graph/graph.jl:100",
      " [5] write_julia_file(::String) at /home/user/.julia/packages/ONNX/iz0dL/src/convert.jl:235",
      " [6] load_model(::String) at /home/user/.julia/packages/ONNX/iz0dL/src/convert.jl:250",
      " [7] top-level scope at In[5]:2"
     ]
    }
   ],
   "source": [
    "using Flux, ONNX\n",
    "\n",
    "# Open Neural Network 形式のモデルをロードする\n",
    "## 定義されていない演算子（:Gather）があり上手く行かない\n",
    "ONNX.load_model(\"./vgg16.onnx\")"
   ]
  }
 ],
 "metadata": {
  "kernelspec": {
   "display_name": "Julia 1.1.1",
   "language": "julia",
   "name": "julia-1.1"
  },
  "language_info": {
   "file_extension": ".jl",
   "mimetype": "application/julia",
   "name": "julia",
   "version": "1.1.1"
  }
 },
 "nbformat": 4,
 "nbformat_minor": 2
}
