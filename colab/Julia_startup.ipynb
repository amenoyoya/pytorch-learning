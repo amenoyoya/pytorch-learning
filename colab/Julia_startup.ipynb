{
  "nbformat": 4,
  "nbformat_minor": 0,
  "metadata": {
    "colab": {
      "name": "Julia_startup.ipynb",
      "version": "0.3.2",
      "provenance": [],
      "collapsed_sections": []
    },
    "kernelspec": {
      "name": "python3",
      "display_name": "Python 3"
    }
  },
  "cells": [
    {
      "cell_type": "code",
      "metadata": {
        "id": "aXt3ssw_QBhn",
        "colab_type": "code",
        "colab": {}
      },
      "source": [
        "# Google Drive マウント\n",
        "from google.colab import drive\n",
        "drive.mount('/content/drive')\n",
        "\n",
        "# -> '/content/drive/My Drive/' ディレクトリに Google Drive のデータがマウントされる"
      ]
    },
    {
      "cell_type": "code",
      "metadata": {
        "id": "IU_VTbck0n8V",
        "colab_type": "code",
        "colab": {}
      },
      "source": [
        "# Julia 1.1.1 インストール\n",
        "!curl -sSL \"https://julialang-s3.julialang.org/bin/linux/x64/1.1/julia-1.1.1-linux-x86_64.tar.gz\" -o julia.tar.gz\n",
        "!tar -xzf julia.tar.gz -C /usr --strip-components 1\n",
        "!rm -rf julia.tar.gz*\n",
        "\n",
        "# 必要なJuliaパッケージ導入\n",
        "!julia -e 'using Pkg; pkg\"add IJulia\"; pkg\"add PyCall\"; pkg\"add PyPlot\"; pkg\"add JSON\"; pkg\"add HTTP\"; pkg\"add Match\"'"
      ]
    },
    {
      "cell_type": "code",
      "metadata": {
        "id": "vaWw59ND76vO",
        "colab_type": "code",
        "colab": {}
      },
      "source": [
        ""
      ]
    }
  ]
}