{
 "cells": [
  {
   "cell_type": "markdown",
   "metadata": {},
   "source": [
    "# 学習済みVGGモデルを用いた転移学習\n",
    "\n",
    "## Introduction\n",
    "\n",
    "### Goal\n",
    "- 目的:\n",
    "    - ImageNetデータセットで学習済みのVGG-16モデルで未知の画像の分類を行う\n",
    "    - VGG-16モデルの実力を知る\n",
    "- 詳細:\n",
    "    - 以下のハリネズミの写真をハリネズミと認識するか確認する\n",
    "\n",
    "![gahag-0059907781-1](./data/gahag-0059907781-1.jpg)\n",
    "\n",
    "### Key words\n",
    "- **ImageNetデータセット**\n",
    "    - スタンフォード大学がインターネット上から画像を収集して分類したデータセット\n",
    "- **VGG-16モデル**\n",
    "    - 2014年のILSVR(ImageNet Large Scale Visual Recognition Challenge)コンテストで準優勝した畳み込みニューラルネットワーク\n",
    "    - オックスフォード大学のVGG(Visual Geometry Group)チームが開発した16層構成のモデルであるため VGG-16モデルと呼ばれる"
   ]
  },
  {
   "cell_type": "code",
   "execution_count": 2,
   "metadata": {},
   "outputs": [],
   "source": [
    "# 必要パッケージのimport\n",
    "import numpy as np\n",
    "import json, torch, torchvision\n",
    "from torchvision import models, transforms\n",
    "from PIL import Image\n",
    "import matplotlib.pyplot as plt\n",
    "%matplotlib inline"
   ]
  },
  {
   "cell_type": "code",
   "execution_count": 3,
   "metadata": {},
   "outputs": [
    {
     "data": {
      "text/plain": [
       "'1.1.0'"
      ]
     },
     "execution_count": 3,
     "metadata": {},
     "output_type": "execute_result"
    }
   ],
   "source": [
    "# PyTorch バージョン確認\n",
    "torch.__version__"
   ]
  },
  {
   "cell_type": "code",
   "execution_count": 4,
   "metadata": {},
   "outputs": [
    {
     "data": {
      "text/plain": [
       "'0.3.0'"
      ]
     },
     "execution_count": 4,
     "metadata": {},
     "output_type": "execute_result"
    }
   ],
   "source": [
    "# TorchVision バージョン確認\n",
    "torchvision.__version__"
   ]
  },
  {
   "cell_type": "code",
   "execution_count": null,
   "metadata": {},
   "outputs": [],
   "source": []
  }
 ],
 "metadata": {
  "kernelspec": {
   "display_name": "Python 3",
   "language": "python",
   "name": "python3"
  },
  "language_info": {
   "codemirror_mode": {
    "name": "ipython",
    "version": 3
   },
   "file_extension": ".py",
   "mimetype": "text/x-python",
   "name": "python",
   "nbconvert_exporter": "python",
   "pygments_lexer": "ipython3",
   "version": "3.7.3"
  }
 },
 "nbformat": 4,
 "nbformat_minor": 2
}
